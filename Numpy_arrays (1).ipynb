{
  "nbformat": 4,
  "nbformat_minor": 0,
  "metadata": {
    "colab": {
      "provenance": []
    },
    "kernelspec": {
      "name": "python3",
      "display_name": "Python 3"
    },
    "language_info": {
      "name": "python"
    }
  },
  "cells": [
    {
      "cell_type": "code",
      "execution_count": null,
      "metadata": {
        "colab": {
          "base_uri": "https://localhost:8080/"
        },
        "id": "pBj0jzYV4Kjm",
        "outputId": "9c150bc7-07e7-409b-ca35-119f2b6cd9f2"
      },
      "outputs": [
        {
          "output_type": "stream",
          "name": "stdout",
          "text": [
            "[[10 20 15]\n",
            " [30 40 50]]\n",
            "[[10, 20, 15], [30, 40, 50]]\n",
            "<class 'list'>\n"
          ]
        }
      ],
      "source": [
        "# Question 1\n",
        "import numpy as np # a ecrire une fois seulement\n",
        "tableau = np.array([[10,20,15],[30,40,50]])\n",
        "print(tableau)\n",
        "liste = tableau.tolist()\n",
        "print(liste)\n",
        "print(type(liste))"
      ]
    },
    {
      "cell_type": "code",
      "source": [
        "#Question2 \n",
        "#Méthode 1 avec np.tarce()\n",
        "matrice1= np.array([[6,12,18],[9,3,27],[18,5,1]])\n",
        "print(matrice1)\n",
        "trace = np.trace(matrice1)\n",
        "print(trace)"
      ],
      "metadata": {
        "colab": {
          "base_uri": "https://localhost:8080/"
        },
        "id": "RQMCL0bb5z2B",
        "outputId": "8bf3ff93-4ae5-4830-b49a-56495420cc84"
      },
      "execution_count": null,
      "outputs": [
        {
          "output_type": "stream",
          "name": "stdout",
          "text": [
            "[[ 6 12 18]\n",
            " [ 9  3 27]\n",
            " [18  5  1]]\n",
            "10\n"
          ]
        }
      ]
    },
    {
      "cell_type": "code",
      "source": [
        "#Méthode 2"
      ],
      "metadata": {
        "id": "_VWW6-5989Yw"
      },
      "execution_count": null,
      "outputs": []
    },
    {
      "cell_type": "code",
      "source": [
        "#Question 3\n",
        "matrice2= np.array([[11,9,32],[100,22,78],[4,15,90]])\n",
        "print(matrice2)\n",
        "print(matrice2[matrice2>50])"
      ],
      "metadata": {
        "id": "MR_BV3Us85KL",
        "colab": {
          "base_uri": "https://localhost:8080/"
        },
        "outputId": "b551426a-72ff-4b25-b55f-8ab83fabc972"
      },
      "execution_count": 19,
      "outputs": [
        {
          "output_type": "stream",
          "name": "stdout",
          "text": [
            "[[ 11   9  32]\n",
            " [100  22  78]\n",
            " [  4  15  90]]\n",
            "[100  78  90]\n"
          ]
        }
      ]
    },
    {
      "cell_type": "code",
      "source": [
        "#Question4\n",
        "A = np.array([[3,13,30],[4,14,44],[5,15,55]])\n",
        "B = np.array([[2,12,22],[1,11,11],[6,1,66]])\n",
        "C= A+B\n",
        "print(C)"
      ],
      "metadata": {
        "colab": {
          "base_uri": "https://localhost:8080/"
        },
        "id": "iBjJBrbJH4Ar",
        "outputId": "4823a3f5-fc21-4d0b-acf0-8bfdf50b1d42"
      },
      "execution_count": 20,
      "outputs": [
        {
          "output_type": "stream",
          "name": "stdout",
          "text": [
            "[[  5  25  52]\n",
            " [  5  25  55]\n",
            " [ 11  16 121]]\n"
          ]
        }
      ]
    },
    {
      "cell_type": "code",
      "source": [
        "#Question5\n",
        "D=np.mean(C)\n",
        "print(D) # la moyenne de toute la matrice\n",
        "E=np.mean(C, axis=1) # donne la moyenne des lignes\n",
        "F=np.mean(C, axis=0) # donne la moyenne des colonnes \n",
        "print(E)\n",
        "print(F)\n",
        "G = C - F # on soustrait de chaque element la moyenne de sa colonne \n",
        "print(G)\n",
        "\n",
        "# on utilise np car c'es noté touuut en haut, si j'avais mis numpy en haut fallait mettre .numpy"
      ],
      "metadata": {
        "colab": {
          "base_uri": "https://localhost:8080/"
        },
        "id": "90kCYfOAIN2U",
        "outputId": "f83910ae-b44a-4682-f2c3-d3f8eec51614"
      },
      "execution_count": 27,
      "outputs": [
        {
          "output_type": "stream",
          "name": "stdout",
          "text": [
            "35.0\n",
            "[27.33333333 28.33333333 49.33333333]\n",
            "[ 7. 22. 76.]\n",
            "[[ -2.   3. -24.]\n",
            " [ -2.   3. -21.]\n",
            " [  4.  -6.  45.]]\n"
          ]
        }
      ]
    }
  ]
}